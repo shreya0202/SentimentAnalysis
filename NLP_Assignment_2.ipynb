{
  "nbformat": 4,
  "nbformat_minor": 0,
  "metadata": {
    "colab": {
      "name": "NLP_Assignment_2.ipynb",
      "provenance": [],
      "collapsed_sections": [],
      "toc_visible": true,
      "machine_shape": "hm",
      "include_colab_link": true
    },
    "kernelspec": {
      "name": "python3",
      "display_name": "Python 3"
    },
    "accelerator": "GPU"
  },
  "cells": [
    {
      "cell_type": "markdown",
      "metadata": {
        "id": "view-in-github",
        "colab_type": "text"
      },
      "source": [
        "<a href=\"https://colab.research.google.com/github/shreya0202/SentimentAnalysis/blob/master/NLP_Assignment_2.ipynb\" target=\"_parent\"><img src=\"https://colab.research.google.com/assets/colab-badge.svg\" alt=\"Open In Colab\"/></a>"
      ]
    },
    {
      "cell_type": "code",
      "metadata": {
        "id": "ZUR80o6TQTZT",
        "colab_type": "code",
        "colab": {}
      },
      "source": [
        "#import pandas library for reading the dataset\n",
        "import pandas as pd\n",
        "\n",
        "#import sklearn model selection package to split data into train and test models\n",
        "from sklearn.model_selection import train_test_split\n",
        "\n",
        "#import numpy library for data manipulation\n",
        "import numpy as np"
      ],
      "execution_count": 0,
      "outputs": []
    },
    {
      "cell_type": "code",
      "metadata": {
        "id": "TU2j6jQ9R7aA",
        "colab_type": "code",
        "outputId": "7634e11a-5793-4146-fde4-19b81705e13d",
        "colab": {
          "base_uri": "https://localhost:8080/",
          "height": 225
        }
      },
      "source": [
        "#Import Natural Language Toolkit\n",
        "import nltk\n",
        "\n",
        "nltk.download('punkt')\n",
        "nltk.download('stopwords') #For stop words removal\n",
        "nltk.download('wordnet') #For lemmatizing\n",
        "nltk.download('tagsets') #Help with any nltk tag\n",
        "nltk.download('averaged_perceptron_tagger') #For POS tagging"
      ],
      "execution_count": 4,
      "outputs": [
        {
          "output_type": "stream",
          "text": [
            "[nltk_data] Downloading package punkt to /root/nltk_data...\n",
            "[nltk_data]   Unzipping tokenizers/punkt.zip.\n",
            "[nltk_data] Downloading package stopwords to /root/nltk_data...\n",
            "[nltk_data]   Unzipping corpora/stopwords.zip.\n",
            "[nltk_data] Downloading package wordnet to /root/nltk_data...\n",
            "[nltk_data]   Unzipping corpora/wordnet.zip.\n",
            "[nltk_data] Downloading package tagsets to /root/nltk_data...\n",
            "[nltk_data]   Unzipping help/tagsets.zip.\n",
            "[nltk_data] Downloading package averaged_perceptron_tagger to\n",
            "[nltk_data]     /root/nltk_data...\n",
            "[nltk_data]   Unzipping taggers/averaged_perceptron_tagger.zip.\n"
          ],
          "name": "stdout"
        },
        {
          "output_type": "execute_result",
          "data": {
            "text/plain": [
              "True"
            ]
          },
          "metadata": {
            "tags": []
          },
          "execution_count": 4
        }
      ]
    },
    {
      "cell_type": "code",
      "metadata": {
        "id": "HJts0n5-R_JP",
        "colab_type": "code",
        "outputId": "c0c49e6b-681e-438e-8251-80f2ae4cddd6",
        "colab": {
          "base_uri": "https://localhost:8080/",
          "height": 373
        }
      },
      "source": [
        "#reading CSV file and storing in a variable\n",
        "dataset = pd.read_csv('/content/drive/My Drive/rotten_tomato.csv')\n",
        "\n",
        "#removing null values\n",
        "dataset = dataset.dropna()\n",
        "\n",
        "print(\"Here are the first 10 rows of the dataset: \")\n",
        "#printing first 10 records of dataset\n",
        "dataset.head(10)"
      ],
      "execution_count": 5,
      "outputs": [
        {
          "output_type": "stream",
          "text": [
            "Here are the first 10 rows of the dataset: \n"
          ],
          "name": "stdout"
        },
        {
          "output_type": "execute_result",
          "data": {
            "text/html": [
              "<div>\n",
              "<style scoped>\n",
              "    .dataframe tbody tr th:only-of-type {\n",
              "        vertical-align: middle;\n",
              "    }\n",
              "\n",
              "    .dataframe tbody tr th {\n",
              "        vertical-align: top;\n",
              "    }\n",
              "\n",
              "    .dataframe thead th {\n",
              "        text-align: right;\n",
              "    }\n",
              "</style>\n",
              "<table border=\"1\" class=\"dataframe\">\n",
              "  <thead>\n",
              "    <tr style=\"text-align: right;\">\n",
              "      <th></th>\n",
              "      <th>PhraseId</th>\n",
              "      <th>SentenceId</th>\n",
              "      <th>Phrase</th>\n",
              "      <th>Sentiment</th>\n",
              "    </tr>\n",
              "  </thead>\n",
              "  <tbody>\n",
              "    <tr>\n",
              "      <th>0</th>\n",
              "      <td>1</td>\n",
              "      <td>1</td>\n",
              "      <td>A series of escapades demonstrating the adage ...</td>\n",
              "      <td>1</td>\n",
              "    </tr>\n",
              "    <tr>\n",
              "      <th>1</th>\n",
              "      <td>2</td>\n",
              "      <td>1</td>\n",
              "      <td>A series of escapades demonstrating the adage ...</td>\n",
              "      <td>2</td>\n",
              "    </tr>\n",
              "    <tr>\n",
              "      <th>2</th>\n",
              "      <td>3</td>\n",
              "      <td>1</td>\n",
              "      <td>A series</td>\n",
              "      <td>2</td>\n",
              "    </tr>\n",
              "    <tr>\n",
              "      <th>3</th>\n",
              "      <td>4</td>\n",
              "      <td>1</td>\n",
              "      <td>A</td>\n",
              "      <td>2</td>\n",
              "    </tr>\n",
              "    <tr>\n",
              "      <th>4</th>\n",
              "      <td>5</td>\n",
              "      <td>1</td>\n",
              "      <td>series</td>\n",
              "      <td>2</td>\n",
              "    </tr>\n",
              "    <tr>\n",
              "      <th>5</th>\n",
              "      <td>6</td>\n",
              "      <td>1</td>\n",
              "      <td>of escapades demonstrating the adage that what...</td>\n",
              "      <td>2</td>\n",
              "    </tr>\n",
              "    <tr>\n",
              "      <th>6</th>\n",
              "      <td>7</td>\n",
              "      <td>1</td>\n",
              "      <td>of</td>\n",
              "      <td>2</td>\n",
              "    </tr>\n",
              "    <tr>\n",
              "      <th>7</th>\n",
              "      <td>8</td>\n",
              "      <td>1</td>\n",
              "      <td>escapades demonstrating the adage that what is...</td>\n",
              "      <td>2</td>\n",
              "    </tr>\n",
              "    <tr>\n",
              "      <th>8</th>\n",
              "      <td>9</td>\n",
              "      <td>1</td>\n",
              "      <td>escapades</td>\n",
              "      <td>2</td>\n",
              "    </tr>\n",
              "    <tr>\n",
              "      <th>9</th>\n",
              "      <td>10</td>\n",
              "      <td>1</td>\n",
              "      <td>demonstrating the adage that what is good for ...</td>\n",
              "      <td>2</td>\n",
              "    </tr>\n",
              "  </tbody>\n",
              "</table>\n",
              "</div>"
            ],
            "text/plain": [
              "   PhraseId  ...  Sentiment\n",
              "0         1  ...          1\n",
              "1         2  ...          2\n",
              "2         3  ...          2\n",
              "3         4  ...          2\n",
              "4         5  ...          2\n",
              "5         6  ...          2\n",
              "6         7  ...          2\n",
              "7         8  ...          2\n",
              "8         9  ...          2\n",
              "9        10  ...          2\n",
              "\n",
              "[10 rows x 4 columns]"
            ]
          },
          "metadata": {
            "tags": []
          },
          "execution_count": 5
        }
      ]
    },
    {
      "cell_type": "code",
      "metadata": {
        "id": "504uPkClbTp-",
        "colab_type": "code",
        "outputId": "b9e622db-4ece-4dd0-908c-3ffc5cd90eaa",
        "colab": {
          "base_uri": "https://localhost:8080/",
          "height": 139
        }
      },
      "source": [
        "dataset.groupby('Sentiment')['PhraseId'].nunique()"
      ],
      "execution_count": 6,
      "outputs": [
        {
          "output_type": "execute_result",
          "data": {
            "text/plain": [
              "Sentiment\n",
              "0     7072\n",
              "1    27273\n",
              "2    79582\n",
              "3    32927\n",
              "4     9206\n",
              "Name: PhraseId, dtype: int64"
            ]
          },
          "metadata": {
            "tags": []
          },
          "execution_count": 6
        }
      ]
    },
    {
      "cell_type": "code",
      "metadata": {
        "id": "0CsIjMmmS4IW",
        "colab_type": "code",
        "outputId": "4304eacc-795b-4dc5-ccdb-d22d5f148bd4",
        "colab": {
          "base_uri": "https://localhost:8080/",
          "height": 292
        }
      },
      "source": [
        "import matplotlib.pyplot as plt\n",
        "\n",
        "dataset.groupby('Sentiment')['PhraseId'].nunique().plot(kind='bar')\n",
        "plt.title('Data Visualization')\n",
        "plt.show()"
      ],
      "execution_count": 7,
      "outputs": [
        {
          "output_type": "display_data",
          "data": {
            "image/png": "[encoded data removed]",
            "text/plain": [
              "<Figure size 432x288 with 1 Axes>"
            ]
          },
          "metadata": {
            "tags": []
          }
        }
      ]
    },
    {
      "cell_type": "code",
      "metadata": {
        "id": "hfQ-5ztVVA78",
        "colab_type": "code",
        "outputId": "bab4e8c1-2b89-44b6-b7a8-b9a64a07de0e",
        "colab": {
          "base_uri": "https://localhost:8080/",
          "height": 364
        }
      },
      "source": [
        "from nltk.corpus import stopwords\n",
        "from nltk.stem import WordNetLemmatizer,PorterStemmer,LancasterStemmer\n",
        "from nltk.tokenize import word_tokenize\n",
        "\n",
        "X = dataset['Phrase']\n",
        "Y = dataset['Sentiment']\n",
        "\n",
        "stopwords_en = set(stopwords.words('english'))\n",
        "porter = PorterStemmer()\n",
        "lancaster = LancasterStemmer()\n",
        "wordnet_lemmatizer = WordNetLemmatizer()\n",
        "\n",
        "punctuations = \"?:!.,;()-/\\\"\"\n",
        "\n",
        "remove_punctuations = True\n",
        "remove_stopwords = True\n",
        "useLemma = True\n",
        "useStem = False\n",
        "\n",
        "\n",
        "X = X.values\n",
        "Y = Y.values\n",
        "\n",
        "reviews = X\n",
        "\n",
        "for review in range(len(X)):\n",
        "    tmp_review = []\n",
        "    for word in word_tokenize(X[review]):\n",
        "        new_word = word\n",
        "        if remove_stopwords and (word in stopwords_en):\n",
        "            continue\n",
        "        if remove_punctuations and (word in punctuations):\n",
        "            continue\n",
        "        if useStem:\n",
        "            new_word = lancaster.stem(new_word)\n",
        "        if useLemma:\n",
        "            new_word = wordnet_lemmatizer.lemmatize(new_word)\n",
        "\n",
        "        tmp_review.append(new_word)\n",
        "\n",
        "    reviews[review] = ' '.join(tmp_review)\n",
        "\n",
        "    if(review % 10000 == 0):\n",
        "        print(str(review) + \" records processed.\")\n",
        "\n",
        "\n",
        "\n",
        "x_train, x_test, y_train, y_test = train_test_split(X, Y, test_size=0.3, stratify=Y, random_state=2003)\n",
        "\n",
        "print(x_train.shape)\n",
        "print(y_train.shape)\n",
        "print(x_test.shape)\n",
        "print(y_test.shape)"
      ],
      "execution_count": 9,
      "outputs": [
        {
          "output_type": "stream",
          "text": [
            "0 records processed.\n",
            "10000 records processed.\n",
            "20000 records processed.\n",
            "30000 records processed.\n",
            "40000 records processed.\n",
            "50000 records processed.\n",
            "60000 records processed.\n",
            "70000 records processed.\n",
            "80000 records processed.\n",
            "90000 records processed.\n",
            "100000 records processed.\n",
            "110000 records processed.\n",
            "120000 records processed.\n",
            "130000 records processed.\n",
            "140000 records processed.\n",
            "150000 records processed.\n",
            "(109242,)\n",
            "(109242,)\n",
            "(46818,)\n",
            "(46818,)\n"
          ],
          "name": "stdout"
        }
      ]
    },
    {
      "cell_type": "code",
      "metadata": {
        "id": "N314Xkv2VH20",
        "colab_type": "code",
        "colab": {}
      },
      "source": [
        "#for one hot encoding\n",
        "from sklearn.preprocessing import LabelBinarizer \n",
        "import numpy as np\n",
        "from itertools import chain"
      ],
      "execution_count": 0,
      "outputs": []
    },
    {
      "cell_type": "code",
      "metadata": {
        "id": "B6bBumGuZfrM",
        "colab_type": "code",
        "colab": {}
      },
      "source": [
        "# new_df = pd.DataFrame(y_train, columns=['Sentiment'])\n",
        "\n",
        "# # new_df.index.name = 'Id'\n",
        "\n",
        "# new_df.groupby('Sentiment')[new_df.index.name].nunique()"
      ],
      "execution_count": 0,
      "outputs": []
    },
    {
      "cell_type": "code",
      "metadata": {
        "id": "Gcms6zm3aKxE",
        "colab_type": "code",
        "colab": {}
      },
      "source": [
        "from sklearn.feature_extraction.text import TfidfVectorizer\n",
        "from sklearn.feature_extraction.text import CountVectorizer\n",
        "\n",
        "#vectorizer = TfidfVectorizer(stop_words=\"english\", ngram_range=(1, 1))\n",
        "#bigram_vectorizer = TfidfVectorizer(stop_words=\"english\", ngram_range=(1, 2))\n",
        "#trigram_vectorizer = TfidfVectorizer(stop_words=\"english\", ngram_range=(1, 3))\n",
        "vec_len = 1000 #<set_a_length_of_your_choice>\n",
        "count_vectorizer = CountVectorizer(max_features=vec_len)\n",
        "encoder = LabelBinarizer()\n",
        "\n",
        "#count_vectorizer = CountVectorizer(stop_words=\"english\", ngram_range=(1, 1))\n",
        "X = count_vectorizer.fit_transform(dataset['Phrase'])\n",
        "Y = dataset['Sentiment']\n",
        "x_train = count_vectorizer.transform(x_train)\n",
        "y_train = encoder.fit_transform(y_train)\n",
        "x_test = count_vectorizer.transform(x_test)\n",
        "y_test = encoder.transform(y_test)\n",
        "\n"
      ],
      "execution_count": 0,
      "outputs": []
    },
    {
      "cell_type": "code",
      "metadata": {
        "id": "m79niFKbTQOv",
        "colab_type": "code",
        "colab": {}
      },
      "source": [
        "x_train_np = x_train.toarray()\n",
        "y_train_np = np.array(y_train)\n",
        "\n",
        "x_test_np = x_test.toarray()\n",
        "y_test_np = np.array(y_test)\n"
      ],
      "execution_count": 0,
      "outputs": []
    },
    {
      "cell_type": "code",
      "metadata": {
        "id": "fh2gp3_JTrz1",
        "colab_type": "code",
        "colab": {}
      },
      "source": [
        "import torch\n",
        "torch.manual_seed(2020)\n",
        "\n",
        "from torch.nn import Conv1d, MaxPool1d, Flatten, Linear\n",
        "\n",
        "from torch.nn.functional import relu, softmax, sigmoid\n",
        "\n",
        "from torch.utils.data import DataLoader, TensorDataset"
      ],
      "execution_count": 0,
      "outputs": []
    },
    {
      "cell_type": "code",
      "metadata": {
        "id": "34Bq0Jfsm0U4",
        "colab_type": "code",
        "colab": {}
      },
      "source": [
        "class CnnRegressor(torch.nn.Module):\n",
        "  #defining initialization method\n",
        "  def __init__(self, batch_size, inputs, outputs):\n",
        "    #initializing super class and storing parameters\n",
        "    super(CnnRegressor, self).__init__()\n",
        "    self.batch_size = batch_size\n",
        "    self.inputs = inputs\n",
        "    self.outputs = outputs\n",
        "    #defining input layer with kernel size 1\n",
        "    self.input_layer = Conv1d(inputs, batch_size,1)\n",
        "    #defining max pooling layer with kernel size 1\n",
        "    self.max_pooling_layer = MaxPool1d(1)\n",
        "    #defining convolution layer with kernel size 1\n",
        "    self.conv_layer = Conv1d(batch_size, 128, 1)\n",
        "    #defining max pooling layer with kernel size 1\n",
        "    self.max_pooling_1 = MaxPool1d(1)\n",
        "    #defining convolution layer with kernel size 1\n",
        "    self.conv_layer_1 = Conv1d(128, 256, 1)\n",
        "    #defining flatten layer\n",
        "    self.flatten_layer = Flatten()\n",
        "    #defining sequential layer\n",
        "    self.linear_layer = Linear(256, 64)\n",
        "    #defining sequential output layer\n",
        "    self.output_layer = Linear(64, outputs)\n",
        "    self.softmax = torch.nn.Softmax()\n",
        "    #self.sigmoid = torch.nn.Sigmoid()\n",
        "    #tensor.sigmoid\n",
        "\n",
        "#method to feed inputs to the model\n",
        "  def feed(self, input):\n",
        "    #reshaping the input to be feed to the input layer\n",
        "    input = input.reshape((self.batch_size, self.inputs, 1))\n",
        "    #passing the input through relu function and getting output for first layer\n",
        "    output = relu(self.input_layer(input))\n",
        "    #passing output of the first layer as input in max pooling layer\n",
        "    output = self.max_pooling_layer(output)\n",
        "    #passing the input through relu function and getting output for second layer\n",
        "    output = relu(self.conv_layer(output))\n",
        "    #passing output of the second layer as input in max pooling layer\n",
        "    output = self.max_pooling_1(output)\n",
        "    #passing the input through relu function and getting output for third layer\n",
        "    output = relu(self.conv_layer_1(output))\n",
        "    #getting output for flatten layer\n",
        "    output = self.flatten_layer(output)\n",
        "    #getting output for linear layer\n",
        "    output = self.linear_layer(output)\n",
        "    #getting final output\n",
        "    output = self.output_layer(output)\n",
        "\n",
        "    #output = sigmoid(output)\n",
        "    output_softmax = self.softmax(output)\n",
        "    output_ = torch.round(output_softmax)\n",
        "    \n",
        "\n",
        "    return output_softmax, output_\n",
        "\n"
      ],
      "execution_count": 0,
      "outputs": []
    },
    {
      "cell_type": "code",
      "metadata": {
        "id": "UBHDryeKUGlM",
        "colab_type": "code",
        "outputId": "0393b4a2-4d50-4dcd-f41b-74ce76cf14ee",
        "colab": {
          "base_uri": "https://localhost:8080/",
          "height": 52
        }
      },
      "source": [
        "#Stochastic gradient descent package\n",
        "from torch.optim import Rprop, Adam\n",
        "\n",
        "#mean absolute error loss\n",
        "#from torch.nn import L1Loss\n",
        "#Cross ENtropy Loss for CLassification Problems\n",
        "from torch.nn import CrossEntropyLoss\n",
        "!pip install pytorch-ignite\n",
        "# from ignite.contrib.metrics.regression.r2_score import R2Score\n",
        "from ignite.metrics import Accuracy, Recall, Precision"
      ],
      "execution_count": 41,
      "outputs": [
        {
          "output_type": "stream",
          "text": [
            "Requirement already satisfied: pytorch-ignite in /usr/local/lib/python3.6/dist-packages (0.3.0)\n",
            "Requirement already satisfied: torch in /usr/local/lib/python3.6/dist-packages (from pytorch-ignite) (1.4.0)\n"
          ],
          "name": "stdout"
        }
      ]
    },
    {
      "cell_type": "code",
      "metadata": {
        "id": "if60cUKPVidT",
        "colab_type": "code",
        "outputId": "a9f2fdb3-eb05-4453-bbd3-40decf01dfc0",
        "colab": {
          "base_uri": "https://localhost:8080/",
          "height": 208
        }
      },
      "source": [
        "batch_size = 64\n",
        "model = CnnRegressor(batch_size, x_train.shape[1], 5)\n",
        "model.cuda()"
      ],
      "execution_count": 42,
      "outputs": [
        {
          "output_type": "execute_result",
          "data": {
            "text/plain": [
              "CnnRegressor(\n",
              "  (input_layer): Conv1d(1000, 64, kernel_size=(1,), stride=(1,))\n",
              "  (max_pooling_layer): MaxPool1d(kernel_size=1, stride=1, padding=0, dilation=1, ceil_mode=False)\n",
              "  (conv_layer): Conv1d(64, 128, kernel_size=(1,), stride=(1,))\n",
              "  (max_pooling_1): MaxPool1d(kernel_size=1, stride=1, padding=0, dilation=1, ceil_mode=False)\n",
              "  (conv_layer_1): Conv1d(128, 256, kernel_size=(1,), stride=(1,))\n",
              "  (flatten_layer): Flatten()\n",
              "  (linear_layer): Linear(in_features=256, out_features=64, bias=True)\n",
              "  (output_layer): Linear(in_features=64, out_features=5, bias=True)\n",
              "  (softmax): Softmax(dim=None)\n",
              ")"
            ]
          },
          "metadata": {
            "tags": []
          },
          "execution_count": 42
        }
      ]
    },
    {
      "cell_type": "code",
      "metadata": {
        "id": "2Co1TCVk8FGp",
        "colab_type": "code",
        "colab": {}
      },
      "source": [
        "#method to return MSE and R^2 scores\n",
        "def model_loss(model, dataset, train = False, optimizer = None):\n",
        "  #performance = L1Loss()\n",
        "  performance=CrossEntropyLoss().cuda()\n",
        "  accu = Accuracy()\n",
        "  prec = Precision()\n",
        "  rec = Recall()\n",
        "  avg_accu = 0\n",
        "  avg_rec = 0\n",
        "  avg_prec = 0\n",
        "  avg_loss = 0\n",
        "  count = 0\n",
        "  for input, output in iter(dataset):\n",
        "    #getting prediction for training dataset\n",
        "    #predictions, predictions_ = model.feed(input)\n",
        "    predictions, predictions_ = model.feed(input)\n",
        "    #tmp_op = output.toarray()\n",
        "    tmp_op = output.argmax(dim = 1).squeeze(0)\n",
        "    # labels = np.argmax(tmp_op, axis=1)\n",
        "    # op = torch.from_numpy(labels).cuda().float()\n",
        "    #Get the expected output \n",
        "    # expected=-1\n",
        "    # for index in range(len(tmp_op)):\n",
        "    #   if tmp_op[index]==1:\n",
        "    #     expected = index\n",
        "    #     break\n",
        "    # expected = torch.tensor(expected).unsqueeze(0).cuda()\n",
        "\n",
        "    #getting the MSE loss\n",
        "    #loss = performance(predictions, output)\n",
        "\n",
        "    #getting Cross Entropy Loss\n",
        "    loss = performance(predictions,tmp_op)\n",
        "\n",
        "    accu.update([predictions_, output])\n",
        "    tmp_accu = accu.compute()\n",
        "\n",
        "    prec.update([predictions_, output])\n",
        "    tmp_prec = prec.compute()\n",
        "\n",
        "    rec.update([predictions_, output])\n",
        "    tmp_rec = rec.compute()\n",
        "\n",
        "    if(train):\n",
        "      #clear errors\n",
        "      optimizer.zero_grad()\n",
        "      #compute gradients\n",
        "      loss.backward()\n",
        "      #update parameters based on gradients\n",
        "      optimizer.step()\n",
        "    \n",
        "    #storing the loss and updating counter\n",
        "    avg_loss += loss.item()\n",
        "    avg_accu += tmp_accu\n",
        "    avg_prec += tmp_prec.item()\n",
        "    avg_rec += tmp_rec.item()\n",
        "    count += 1\n",
        " #returning Average accuracy, Precision, Recall per count\n",
        "  return avg_loss/count, avg_accu / count, avg_prec / count, avg_rec / count"
      ],
      "execution_count": 0,
      "outputs": []
    },
    {
      "cell_type": "code",
      "metadata": {
        "id": "yLLIVSeGbMbl",
        "colab_type": "code",
        "outputId": "d40fd3f9-f3bb-4899-f588-c9a729ddefe2",
        "colab": {
          "base_uri": "https://localhost:8080/",
          "height": 35
        }
      },
      "source": [
        "y_train_np.shape"
      ],
      "execution_count": 35,
      "outputs": [
        {
          "output_type": "execute_result",
          "data": {
            "text/plain": [
              "(109242, 5)"
            ]
          },
          "metadata": {
            "tags": []
          },
          "execution_count": 35
        }
      ]
    },
    {
      "cell_type": "code",
      "metadata": {
        "id": "QiEy6IJhVzKP",
        "colab_type": "code",
        "outputId": "0b6e70c8-69f5-48d5-e996-decf20cae08e",
        "colab": {
          "base_uri": "https://localhost:8080/",
          "height": 263
        }
      },
      "source": [
        "import os\n",
        "\n",
        "if '1105134_sentiment_analysis.pth' in os.listdir('/content/drive/My Drive/'):\n",
        "  #code to load the trained model\n",
        "  model.load_state_dict(torch.load('/content/drive/My Drive/1105134_sentiment_analysis.pth'))\n",
        "  model.eval()\n",
        "  #Block to obtain test loss\n",
        "  optimizer = Rprop(model.parameters(), lr=1e-5)\n",
        "  optimizer_ = Adam(model.parameters(), lr=1e-5)\n",
        "  inputs = torch.from_numpy(x_test_np).cuda().float()\n",
        "  outputs = torch.from_numpy(y_test_np).cuda().float()\n",
        "  print(inputs.size())\n",
        "  print(outputs.size())\n",
        "  tensor = TensorDataset(inputs, outputs)\n",
        "  loader = DataLoader(tensor, batch_size, shuffle=True, drop_last=True)\n",
        "  avg_loss, avg_accu, avg_prec, avg_rec = model_loss(model, loader, train=False, optimizer=optimizer)\n",
        "  av_loss, av_accu, av_prec, av_rec = model_loss(model, loader, train=False, optimizer=optimizer_)\n",
        "  f1 = (2*(avg_prec*avg_rec)/(avg_rec + avg_prec))\n",
        "  f1_adam = (2*(av_prec*av_rec)/(av_rec + av_prec))\n",
        "  print(\"Rprop: The Testing Resulting Average Loss = \" + str(avg_loss) + \"\\n\\tAccuracy = \" + str(avg_accu) + \"\\n\\tAverage Precision = \" + str(avg_prec) + \"\\n\\tAverage Recall = \" + str(avg_rec) +  \"\\n\\tF1 score = \" + str(f1))\n",
        "  print(\"Adam: The Testing Resulting Average Loss = \" + str(avg_loss) +\"\\n\\tAccuracy = \" + str(av_accu) + \"\\n\\tAverage Precision = \" + str(av_prec) + \"\\n\\tAverage Recall = \" + str(av_rec) +  \"\\n\\tF1 score = \" + str(f1_adam))\n",
        "\n",
        "else:\n",
        "    epochs = 200\n",
        "    optimizer = Rprop(model.parameters(), lr=1e-5)\n",
        "    optimizer_ = Adam(model.parameters(), lr=1e-5)\n",
        "    inputs = torch.from_numpy(x_train_np).cuda().float()\n",
        "    outputs = torch.from_numpy(y_train_np).cuda().float()\n",
        "    print(inputs.size())\n",
        "    print(outputs.size())\n",
        "    tensor = TensorDataset(inputs, outputs)\n",
        "    loader = DataLoader(tensor, batch_size, shuffle=True, drop_last=True)\n",
        "    accuracies = []\n",
        "    acc_adam = []\n",
        "    for epoch in range(epochs):\n",
        "      avg_loss, avg_accu, avg_prec, avg_rec = model_loss(model, loader, train=True, optimizer=optimizer)\n",
        "      av_loss, av_accu, av_prec, av_rec = model_loss(model, loader, train=True, optimizer=optimizer_)\n",
        "      if epoch == 0:\n",
        "        accuracies = [avg_accu]\n",
        "        acc_adam = [av_accu]\n",
        "      else:\n",
        "        accuracies = [*accuracies, avg_accu]\n",
        "        acc_adam = [*acc_adam, av_accu]\n",
        "      f1 = (2*(avg_prec*avg_rec)/(avg_rec + avg_prec))\n",
        "      f1_adam = (2*(av_prec*av_rec)/(av_rec + av_prec))\n",
        "      print(\"Rprop: The Training Resulting Epoch : \" + str(epoch + 1) + \":\\n\\tAverage Loss = \" + str(avg_loss) + \"\\n\\tAccuracy = \" + str(avg_accu) + \"\\n\\tAverage Precision = \" + str(avg_prec) + \"\\n\\tAverage Recall = \" + str(avg_rec) +  \"\\n\\tF1 score = \" + str(f1))\n",
        "      print(\"Adam: The Training Resulting Epoch : \" + str(epoch + 1) + \":\\n\\tAverage Loss = \" + str(av_loss) + \"\\n\\tAccuracy = \" + str(av_accu) + \"\\n\\tAverage Precision = \" + str(av_prec) + \"\\n\\tAverage Recall = \" + str(av_rec) +  \"\\n\\tF1 score = \" + str(f1_adam))\n",
        "\n",
        "    #saving the trained model in drive\n",
        "    torch.save(model.state_dict(), '/content/drive/My Drive/1105134_sentiment_analysis.pth')"
      ],
      "execution_count": 91,
      "outputs": [
        {
          "output_type": "stream",
          "text": [
            "torch.Size([46818, 1000])\n",
            "torch.Size([46818, 5])\n"
          ],
          "name": "stdout"
        },
        {
          "output_type": "stream",
          "text": [
            "/usr/local/lib/python3.6/dist-packages/ipykernel_launcher.py:51: UserWarning: Implicit dimension choice for softmax has been deprecated. Change the call to include dim=X as an argument.\n"
          ],
          "name": "stderr"
        },
        {
          "output_type": "stream",
          "text": [
            "Rprop: The Testing Resulting Average Loss = 1.308349049694724\n",
            "\tAccuracy = 0.8370404069325699\n",
            "\tAverage Precision = 0.5926512735343143\n",
            "\tAverage Recall = 0.5923333219810275\n",
            "\tF1 score = 0.5924922551017618\n",
            "Adam: The Testing Resulting Average Loss = 1.308349049694724\n",
            "\tAccuracy = 0.8391160739757705\n",
            "\tAverage Precision = 0.5978602261033112\n",
            "\tAverage Recall = 0.5974312215922803\n",
            "\tF1 score = 0.5976456468603502\n"
          ],
          "name": "stdout"
        }
      ]
    },
    {
      "cell_type": "code",
      "metadata": {
        "id": "VcWeFgsQbNRl",
        "colab_type": "code",
        "outputId": "ea54e934-6f4e-41cf-cb1b-8ee76dfccb03",
        "colab": {
          "base_uri": "https://localhost:8080/",
          "height": 334
        }
      },
      "source": [
        "plt.figure(figsize=(14,5))\n",
        "num_epochs = range(epochs)\n",
        "plt.plot(num_epochs, accuracies, 'oc-', label='Rprop', markersize = 3)\n",
        "plt.plot(num_epochs, acc_adam, 'or-', label='Adam', markersize = 3)\n",
        "plt.xlabel('Number of Epochs')\n",
        "plt.ylabel('Accuracy')\n",
        "plt.legend(loc='lower right')\n",
        "plt.show()"
      ],
      "execution_count": 89,
      "outputs": [
        {
          "output_type": "display_data",
          "data": {
            "image/png": "[encoded data removed]",
            "text/plain": [
              "<Figure size 1008x360 with 1 Axes>"
            ]
          },
          "metadata": {
            "tags": []
          }
        }
      ]
    },
    {
      "cell_type": "code",
      "metadata": {
        "id": "uRNI1VSb83Hz",
        "colab_type": "code",
        "outputId": "d35eda02-610e-4fbd-8ebf-deff456dd398",
        "colab": {
          "base_uri": "https://localhost:8080/",
          "height": 263
        }
      },
      "source": [
        "#Block to obtain test loss\n",
        "# optimizer = Rprop(model.parameters(), lr=1e-5)\n",
        "# optimizer_ = Adam(model.parameters(), lr=1e-5)\n",
        "# inputs = torch.from_numpy(x_test_np).cuda().float()\n",
        "# outputs = torch.from_numpy(y_test_np).cuda().float()\n",
        "# print(inputs.size())\n",
        "# print(outputs.size())\n",
        "# tensor = TensorDataset(inputs, outputs)\n",
        "# loader = DataLoader(tensor, batch_size, shuffle=True, drop_last=True)\n",
        "# avg_loss, avg_accu, avg_prec, avg_rec = model_loss(model, loader, train=False, optimizer=optimizer)\n",
        "# av_loss, av_accu, av_prec, av_rec = model_loss(model, loader, train=False, optimizer=optimizer_)\n",
        "# f1 = (2*(avg_prec*avg_rec)/(avg_rec + avg_prec))\n",
        "# f1_adam = (2*(av_prec*av_rec)/(av_rec + av_prec))\n",
        "# print(\"Rprop: The Testing Resulting Average Loss = \" + str(avg_loss) + \"\\n\\tAccuracy = \" + str(avg_accu) + \"\\n\\tAverage Precision = \" + str(avg_prec) + \"\\n\\tAverage Recall = \" + str(avg_rec) +  \"\\n\\tF1 score = \" + str(f1))\n",
        "# print(\"Adam: The Testing Resulting Average Loss = \" + str(avg_loss) +\"\\n\\tAccuracy = \" + str(av_accu) + \"\\n\\tAverage Precision = \" + str(av_prec) + \"\\n\\tAverage Recall = \" + str(av_rec) +  \"\\n\\tF1 score = \" + str(f1_adam))"
      ],
      "execution_count": 76,
      "outputs": [
        {
          "output_type": "stream",
          "text": [
            "torch.Size([46818, 1000])\n",
            "torch.Size([46818, 5])\n"
          ],
          "name": "stdout"
        },
        {
          "output_type": "stream",
          "text": [
            "/usr/local/lib/python3.6/dist-packages/ipykernel_launcher.py:51: UserWarning: Implicit dimension choice for softmax has been deprecated. Change the call to include dim=X as an argument.\n"
          ],
          "name": "stderr"
        },
        {
          "output_type": "stream",
          "text": [
            "Rprop: The Testing Resulting Average Loss = 1.2972585727675996\n",
            "\tAccuracy = 0.8445046991330066\n",
            "\tAverage Precision = 0.6113309708417596\n",
            "\tAverage Recall = 0.6109513319679024\n",
            "\tF1 score = 0.6111410924472259\n",
            "Adam: The Testing Resulting Average Loss = 1.2972585727675996\n",
            "\tAccuracy = 0.8419624978903315\n",
            "\tAverage Precision = 0.604956119850188\n",
            "\tAverage Recall = 0.6046688618409208\n",
            "\tF1 score = 0.6048124567369815\n"
          ],
          "name": "stdout"
        }
      ]
    }
  ]
}